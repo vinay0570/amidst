{
 "cells": [
  {
   "cell_type": "markdown",
   "metadata": {},
   "source": [
    "## Hypothesis Tests for One Population Mean when Sigma is Unknown\n"
   ]
  },
  {
   "cell_type": "markdown",
   "metadata": {},
   "source": [
    "A hypothesis test for a population mean when the population standard deviation, σ, is unknown is conducted in the same way as if the population standard deviation is known. ***The only difference is that the t-distribution is invoked, instead of the standard normal distribution (z-distribution).***\n",
    "\n",
    "For a test with null hypothesis H0:  μ=μ0, the test statistic, t, is calculated as"
   ]
  },
  {
   "cell_type": "markdown",
   "metadata": {},
   "source": [
    "####  If population variance is unknown: $$ t = \\frac{(\\bar{x} - \\mu)}{(s/\\sqrt{n})}\\ $$\n",
    "\n",
    "\n",
    "Notations:\n",
    "\n",
    "1. ***s*** is the sample's standard deviation provided the sample size is greater than 30\n",
    "\n",
    "2. ***μ*** is the population mean = mean of all the samples from the CLT\n",
    "\n",
    "3. ***x*** is the data of the random sample picked\n",
    "\n",
    "4. ***n*** is the size of the sample\n",
    "\n",
    "---"
   ]
  },
  {
   "cell_type": "markdown",
   "metadata": {},
   "source": [
    "###### This hypothesis testing procedure is called one-mean t-test or simply t-test. The following are the steps to be followed:"
   ]
  },
  {
   "cell_type": "markdown",
   "metadata": {},
   "source": [
    "Step 1:  State the null hypothesis H0 and alternative hypothesis H1\n",
    "\n",
    "Step 2:  Decide on the significance level, α.\n",
    "\n",
    "Step 3:  Compute the value of the test statistic.\n",
    "\n",
    "Step 4a: Critical value approach: Determine the critical value.\n",
    "\n",
    "Step 4b: P-value approach: Determine the p-value\n",
    "\n",
    "Step 5a: Critical value approach: If the test statistic value falls in rejection region, rejectH0; otherwise, do not rejectH0\n",
    "\n",
    "step 5b: P-value approach: If p≤α, reject H0; otherwise, do not reject H0\n",
    "\n",
    "step 6:  Interpret the result of the hypothesis test.\n",
    "\n",
    "---"
   ]
  },
  {
   "cell_type": "markdown",
   "metadata": {},
   "source": [
    "###### Hypothesis testing: The critical value approach\n",
    "\n",
    "***Let us build a function called simplettest().***\n",
    "\n",
    "The function takes as input arguments:\n",
    "\n",
    "1. a vector x (sample data)\n",
    "\n",
    "2. mu0, which corresponds to μ0, the population average to test against\n",
    "\n",
    "3. the specified significance level α, denominated as alpha\n",
    "\n",
    "4. and the method of the t-test, left, right, or the default value two-sided( nothing but choosing one tailed or two tailed) with the function argument named method. \n",
    "\n",
    "***The output of the function determines whether to accept or reject the null hypothesis.***"
   ]
  },
  {
   "cell_type": "code",
   "execution_count": 1,
   "metadata": {},
   "outputs": [],
   "source": [
    "import numpy as np\n",
    "import pandas as pd\n",
    "import seaborn as sns\n",
    "import matplotlib.pyplot as plt\n",
    "import plotly.express as px\n",
    "\n",
    "from scipy.stats import ttest_1samp\n",
    "from scipy.stats import norm\n",
    "from scipy.stats import t\n",
    "import statistics as stats\n",
    "import math\n",
    "import random"
   ]
  },
  {
   "cell_type": "markdown",
   "metadata": {},
   "source": [
    "---\n",
    "\n",
    "**Question 1:**\n",
    "\n",
    "Pista House selling Hyderabadi Chicken Dum biryani claims that each parcel packet has 500 grams of biryani (also mentioned on the label of packet). You are sceptic of their claims and believe that on average each packet does not contain 500 grams of biryani. How do you prove your claim? ~(Given that the population std is 50)~\n"
   ]
  },
  {
   "cell_type": "markdown",
   "metadata": {},
   "source": [
    "H0 : (Null Hypothesis) \n",
    "\n",
    "on average each packet contains 500 grams of biryani.(=500)\n",
    "\n",
    "---\n",
    "\n",
    "H1 : (Alternate Hypothesis)\n",
    "\n",
    "on average each packet does not contain 500 grams of biryani.(!=500)"
   ]
  },
  {
   "cell_type": "code",
   "execution_count": 2,
   "metadata": {},
   "outputs": [],
   "source": [
    "def reqplot2q1(s,sample,mu0,sample_mean,t_critical_right,t_critical_left):\n",
    "    x_min = 200\n",
    "    x_max = 800\n",
    "    \n",
    "    # Defining the sampling distribution mean and sampling distribution std\n",
    "    mean = mu0\n",
    "    std = s/math.sqrt(len(sample))\n",
    "    \n",
    "    # Ploting the graph and setting the x limits\n",
    "    x = np.linspace(x_min, x_max, 100)\n",
    "    y = norm.pdf(x, mean, std)\n",
    "    plt.xlim(x_min, x_max)\n",
    "    plt.plot(x, y)\n",
    "    \n",
    "    # Shading the left rejection region\n",
    "    x1 = np.linspace(x_min,mean+t_critical_right*std, 100)\n",
    "    y1 = norm.pdf(x1, mean, std)\n",
    "    plt.fill_between(x1, y1, color='yellow')\n",
    "\n",
    "    # Shading the right rejection region\n",
    "    x2 = np.linspace(mean+t_critical_left*std, x_max, 100)\n",
    "    y2 = norm.pdf(x2, mean, std)\n",
    "    plt.fill_between(x2, y2, color='yellow')\n",
    "\n",
    "\n",
    "    # Ploting the sample mean and concluding the results \n",
    "    plt.scatter(sample_mean, 0)\n",
    "    plt.annotate(\"x_bar\", (sample_mean, 0.0007))"
   ]
  },
  {
   "cell_type": "code",
   "execution_count": 3,
   "metadata": {},
   "outputs": [],
   "source": [
    "def samplettestq1(x, mu0, alpha, method='two-tailed'):\n",
    "    \n",
    "    n  = len(x)                       # sample length\n",
    "    xbar = sum(x)/n;                  # sample mean\n",
    "    s = stats.stdev(x)                # sample standard deviation\n",
    "    \n",
    "    # calculate test statistic (tscore)\n",
    "    \n",
    "    t_score = (xbar-mu0)/(s/math.sqrt(n))\n",
    "    print(\"t score : \",t_score)       \n",
    "    \n",
    "    # calculating critical values and compare with its analysis with t_score\n",
    "    \n",
    "    if(method == 'two-tailed'):\n",
    "        \n",
    "        lower_cutoff = t.ppf(alpha/2, n - 1) \n",
    "        upper_cutoff = t.ppf(1-alpha/2, n - 1) \n",
    "        print(\"t-criticals: \",lower_cutoff,upper_cutoff)\n",
    "        \n",
    "        if(lower_cutoff<t_score<upper_cutoff):\n",
    "            rejectnull = \"Failed to Reject Null Hypothesis i.e, accept Null Hypothesis\"\n",
    "        else:\n",
    "            rejectnull = \"Reject the Null Hypothesis\"\n",
    "        \n",
    "        reqplot2q1(s,x,mu0,xbar,lower_cutoff,upper_cutoff)\n",
    "            \n",
    "    elif(method == 'right-tailed'):\n",
    "        \n",
    "        upper_cutoff = t.ppf(1-alpha,n-1)\n",
    "        print(\"t-critical: \",upper_cutoff)\n",
    "        \n",
    "        if(t_score >= upper_cutoff):\n",
    "            rejectnull = \"Reject the Null Hypothesis\"\n",
    "        else:\n",
    "            rejectnull = \"Failed to Reject Null Hypothesis i.e, accept Null Hypothesis\"\n",
    "        \n",
    "        reqplotuq1(s,x,mu0,xbar,upper_cutoff)\n",
    "        \n",
    "    elif(method == 'left-tailed'):\n",
    "        \n",
    "        lower_cutoff = t.ppf(alpha,n-1)\n",
    "        print(\"t-critical: \",lower_cutoff)\n",
    "        \n",
    "        if(t_score <= lower_cutoff):\n",
    "            rejectnull = \"Reject the Null Hypothesis\"\n",
    "        else:\n",
    "            rejectnull =  \"Failed to Reject Null Hypothesis i.e, accept Null Hypothesis\"\n",
    "         \n",
    "        reqplotlq1()\n",
    "        \n",
    "    # plotting the distribution:\n",
    "    return rejectnull"
   ]
  },
  {
   "cell_type": "code",
   "execution_count": 4,
   "metadata": {},
   "outputs": [
    {
     "name": "stdout",
     "output_type": "stream",
     "text": [
      "t score :  -1.263475128444671\n",
      "t-criticals:  -2.262157162740992 2.2621571627409915\n"
     ]
    },
    {
     "data": {
      "text/plain": [
       "'Failed to Reject Null Hypothesis i.e, accept Null Hypothesis'"
      ]
     },
     "execution_count": 4,
     "metadata": {},
     "output_type": "execute_result"
    },
    {
     "data": {
      "image/png": "[encoded data removed]",
      "text/plain": [
       "<Figure size 432x288 with 1 Axes>"
      ]
     },
     "metadata": {
      "needs_background": "light"
     },
     "output_type": "display_data"
    }
   ],
   "source": [
    "# consider the sample of these values \n",
    "\n",
    "l = [490, 220, 470, 500, 495, 496, 496, 498, 508, 480]      # 'Failed to Reject Null Hypothesis i.e, accept Null Hypothesis'\n",
    "# l = [100,110,120,140,180,220,156,250,340,403,440,550,560]     #  'Reject the Null Hypothesis'\n",
    "samplettestq1(l,500,0.05)"
   ]
  },
  {
   "cell_type": "markdown",
   "metadata": {},
   "source": [
    "###### This p-value approach works as verification proof for our critical t-value approach\n",
    "\n",
    "In null hypothesis significance testing, the p-value is the probability of obtaining test results at least as extreme as the results actually observed, under the assumption that the null hypothesis is correct. A very small p-value means that such an extreme observed outcome would be very unlikely under the null hypothesis\n",
    "\n",
    "$$\n",
    "If p≤α, reject H0; \\\\If p>α, reject H0\n",
    "$$\n",
    "    "
   ]
  },
  {
   "cell_type": "code",
   "execution_count": 5,
   "metadata": {},
   "outputs": [
    {
     "name": "stdout",
     "output_type": "stream",
     "text": [
      "The P-value is :  0.23816470585327693\n",
      "Failed to Reject Null Hypothesis i.e, accept Null Hypothesis\n"
     ]
    }
   ],
   "source": [
    "# p - value Approach     \n",
    "\n",
    "l = [490, 220, 470, 500, 495, 496, 496, 498, 508, 480]      # Failed to Reject Null Hypothesis i.e, accept Null Hypothesis\n",
    "# l = [100,110,120,140,180,220,156,250,340,403,440,550,560]   # Reject the Null Hypothesis\n",
    "\n",
    "from scipy.stats import ttest_1samp\n",
    "\n",
    "tstats= ttest_1samp(l,500)                    # sample passed is l with assumed population mean 500\n",
    "\n",
    "p_value  = tstats[1]\n",
    "\n",
    "print(\"The P-value is : \",p_value)\n",
    "\n",
    "if(p_value<0.05):\n",
    "    print(\"Reject the Null Hypothesis\")\n",
    "else:\n",
    "    print(\"Failed to Reject Null Hypothesis i.e, accept Null Hypothesis\")"
   ]
  },
  {
   "cell_type": "markdown",
   "metadata": {},
   "source": [
    "---\n",
    "\n",
    "**Question 2:**\n",
    "\n",
    "You have developed a new Natural Language Processing Algorithms and done a \n",
    "user study. You claim that the average rating given by the users is greater than 4 on a \n",
    "scale of 1 to 5. How do you prove this to your client? (Given that the population std is 0.5"
   ]
  },
  {
   "cell_type": "markdown",
   "metadata": {},
   "source": [
    "H0 : (Null Hypothesis) \n",
    "\n",
    "the average rating given by the users on the NLP algorithm is equal or less than 4 on a scale of 1 to 5.(<=4)\n",
    "\n",
    "---\n",
    "\n",
    "H1 : (Alternate Hypothesis)\n",
    "\n",
    "the average rating given by the users on the NLP algorithm is greater than 4 on a scale of 1 to 5.(>4)"
   ]
  },
  {
   "cell_type": "code",
   "execution_count": 6,
   "metadata": {},
   "outputs": [],
   "source": [
    "def reqplotuq2(s,sample,mu0,sample_mean,t_critical_left):\n",
    "    x_min = 3.6\n",
    "    x_max = 4.4\n",
    "    \n",
    "    # Defining the sampling distribution mean and sampling distribution std\n",
    "    mean = mu0\n",
    "    std = s/math.sqrt(len(sample))\n",
    "    \n",
    "    # Ploting the graph and setting the x limits\n",
    "    \n",
    "    x = np.linspace(x_min, x_max, 100)\n",
    "    y = norm.pdf(x, mean, std)\n",
    "    plt.xlim(x_min, x_max)\n",
    "    plt.plot(x, y)\n",
    "\n",
    "    # Shading the right rejection region\n",
    "    \n",
    "    x2 = np.linspace(mean+t_critical_left*std, x_max, 100)\n",
    "    y2 = norm.pdf(x2, mean, std)\n",
    "    plt.fill_between(x2, y2, color='yellow')\n",
    "\n",
    "\n",
    "    # Ploting the sample mean and concluding the results \n",
    "    \n",
    "    plt.scatter(sample_mean, 0)\n",
    "    plt.annotate(\"x_bar\", (sample_mean, 0.0007))"
   ]
  },
  {
   "cell_type": "code",
   "execution_count": 7,
   "metadata": {},
   "outputs": [],
   "source": [
    "def samplettestq2(x, mu0, alpha, method='two-tailed'):\n",
    "    \n",
    "    n  = len(x)                       # sample length\n",
    "    xbar = sum(x)/n;                  # sample mean\n",
    "    s = stats.stdev(x)                # sample standard deviation\n",
    "    \n",
    "    # calculate test statistic (tscore)\n",
    "    \n",
    "    t_score = (xbar-mu0)/(s/math.sqrt(n))\n",
    "    print(\"t score : \",t_score)       \n",
    "    \n",
    "    # calculating critical values and compare with its analysis with t_score\n",
    "    \n",
    "    if(method == 'two-tailed'):\n",
    "        \n",
    "        lower_cutoff = t.ppf(alpha/2, n - 1) \n",
    "        upper_cutoff = t.ppf(1-alpha/2, n - 1) \n",
    "        print(\"t-criticals: \",lower_cutoff,upper_cutoff)\n",
    "        \n",
    "        if(lower_cutoff<t_score<upper_cutoff):\n",
    "            rejectnull = \"Failed to Reject Null Hypothesis i.e, accept Null Hypothesis\"\n",
    "        else:\n",
    "            rejectnull = \"Reject the Null Hypothesis\"\n",
    "        \n",
    "#         reqplot2q2(s,x,mu0,xbar,lower_cutoff,upper_cutoff)\n",
    "            \n",
    "    elif(method == 'right-tailed'):\n",
    "        \n",
    "        upper_cutoff = t.ppf(1-alpha,n-1)\n",
    "        print(\"t-critical: \",upper_cutoff)\n",
    "        \n",
    "        if(t_score >= upper_cutoff):\n",
    "            rejectnull = \"Reject the Null Hypothesis\"\n",
    "        else:\n",
    "            rejectnull = \"Failed to Reject Null Hypothesis i.e, accept Null Hypothesis\"\n",
    "        \n",
    "        reqplotuq2(s,x,mu0,xbar,upper_cutoff)\n",
    "        \n",
    "    elif(method == 'left-tailed'):\n",
    "        \n",
    "        lower_cutoff = t.ppf(alpha,n-1)\n",
    "        print(\"t-critical: \",lower_cutoff)\n",
    "        \n",
    "        if(t_score <= lower_cutoff):\n",
    "            rejectnull = \"Reject the Null Hypothesis\"\n",
    "        else:\n",
    "            rejectnull =  \"Failed to Reject Null Hypothesis i.e, accept Null Hypothesis\"\n",
    "            \n",
    "#        reqplotlq2(s,x,mu0,xbar,lower_cutoff)\n",
    "        \n",
    "    # plotting the distribution:\n",
    "    return rejectnull"
   ]
  },
  {
   "cell_type": "code",
   "execution_count": 8,
   "metadata": {
    "scrolled": true
   },
   "outputs": [
    {
     "name": "stdout",
     "output_type": "stream",
     "text": [
      "t score :  1.3142574813455419\n",
      "t-critical:  1.729132811521367\n"
     ]
    },
    {
     "data": {
      "text/plain": [
       "'Failed to Reject Null Hypothesis i.e, accept Null Hypothesis'"
      ]
     },
     "execution_count": 8,
     "metadata": {},
     "output_type": "execute_result"
    },
    {
     "data": {
      "image/png": "[encoded data removed]",
      "text/plain": [
       "<Figure size 432x288 with 1 Axes>"
      ]
     },
     "metadata": {
      "needs_background": "light"
     },
     "output_type": "display_data"
    }
   ],
   "source": [
    "# consider the sample of these values \n",
    "\n",
    "l = [4,3,5,4,5,3,5,5,4,2,4,5,5,4,4,5,4,5,4,5]      # 'Failed to Reject Null Hypothesis i.e, accept Null Hypothesis'\n",
    "# l = [4,4,4,4,4,4.1,4.1,4.1,4.1,4.1,4.1,4.1,4.1,4.1,4.2,4.2,4.2,4.3]   #  'Reject the Null Hypothesis'\n",
    "samplettestq2(l,4,0.05,'right-tailed')"
   ]
  },
  {
   "cell_type": "markdown",
   "metadata": {},
   "source": [
    "###### This p-value approach works as verification proof for our critical t-value approach\n",
    "\n",
    "In null hypothesis significance testing, the p-value is the probability of obtaining test results at least as extreme as the results actually observed, under the assumption that the null hypothesis is correct. A very small p-value means that such an extreme observed outcome would be very unlikely under the null hypothesis\n",
    "\n",
    "$$\n",
    "If p≤α, reject H0; \\\\If p>α, reject H0\n",
    "$$\n",
    "    "
   ]
  },
  {
   "cell_type": "code",
   "execution_count": 9,
   "metadata": {},
   "outputs": [
    {
     "name": "stdout",
     "output_type": "stream",
     "text": [
      "The P-value is :  9.875798788065359e-05\n",
      "Reject the Null Hypothesis\n"
     ]
    }
   ],
   "source": [
    "# p - value Approach     \n",
    "\n",
    "# l = [4,3,5,4,5,3,5,5,4,2,4,5,5,4,4,5,4,5,4,5]      # 'Failed to Reject Null Hypothesis i.e, accept Null Hypothesis'\n",
    "l = [4,4,4,4,4,4.1,4.1,4.1,4.1,4.1,4.1,4.1,4.1,4.1,4.2,4.2,4.2,4.3]   #  'Reject the Null Hypothesis'\n",
    "\n",
    "from scipy.stats import ttest_1samp\n",
    "\n",
    "tstats= ttest_1samp(l,4)      # sample passed is l with assumed population mean 4\n",
    "\n",
    "p_value  = tstats[1]\n",
    "\n",
    "print(\"The P-value is : \",p_value)\n",
    "\n",
    "if(p_value<0.025):                   # since one tail \n",
    "    print(\"Reject the Null Hypothesis\")\n",
    "else:\n",
    "    print(\"Failed to Reject Null Hypothesis i.e, accept Null Hypothesis\")"
   ]
  },
  {
   "cell_type": "markdown",
   "metadata": {},
   "source": [
    "---\n",
    "\n",
    "**Question 3:**\n",
    "\n",
    "Q-3: TATA has developed a better fuel management system for the SUV segment. They claim that with this system, on average the SUV's mileage is at least 15 km/litre? ~(Given that the population std is 1)~"
   ]
  },
  {
   "cell_type": "markdown",
   "metadata": {},
   "source": [
    "H0 : (Null Hypothesis) \n",
    "\n",
    "the average of the SUV's mileage is at less than 15 km/litre (<15kmpl)\n",
    "\n",
    "---\n",
    "\n",
    "H1 : (Alternate Hypothesis)\n",
    "\n",
    "the average of the SUV's mileage is at least 15 km/litre (>=15kmpl)"
   ]
  },
  {
   "cell_type": "code",
   "execution_count": 10,
   "metadata": {},
   "outputs": [],
   "source": [
    "def reqplotlq3(s,sample,mu0,sample_mean,t_critical_right):\n",
    "    x_min = 12\n",
    "    x_max = 16\n",
    "    \n",
    "    # Defining the sampling distribution mean and sampling distribution std\n",
    "    mean = mu0\n",
    "    std = s/math.sqrt(len(sample))\n",
    "    \n",
    "    # Ploting the graph and setting the x limits\n",
    "    \n",
    "    x = np.linspace(x_min, x_max, 100)\n",
    "    y = norm.pdf(x, mean, std)\n",
    "    plt.xlim(x_min, x_max)\n",
    "    plt.plot(x, y)\n",
    "\n",
    "    # Shading the left rejection region\n",
    "    x1 = np.linspace(x_min,mean+t_critical_right*std, 100)\n",
    "    y1 = norm.pdf(x1, mean, std)\n",
    "    plt.fill_between(x1, y1, color='yellow')\n",
    "\n",
    "    # Ploting the sample mean and concluding the results \n",
    "    \n",
    "    plt.scatter(sample_mean, 0)\n",
    "    plt.annotate(\"x_bar\", (sample_mean, 0.0007))"
   ]
  },
  {
   "cell_type": "code",
   "execution_count": 11,
   "metadata": {},
   "outputs": [],
   "source": [
    "def samplettestq3(x, mu0, alpha, method='two-tailed'):\n",
    "    \n",
    "    n  = len(x)                       # sample length\n",
    "    xbar = sum(x)/n;                  # sample mean\n",
    "    s = stats.stdev(x)                # sample standard deviation\n",
    "    \n",
    "    # calculate test statistic (tscore)\n",
    "    \n",
    "    t_score = (xbar-mu0)/(s/math.sqrt(n))\n",
    "    print(\"t score : \",t_score)       \n",
    "    \n",
    "    # calculating critical values and compare with its analysis with t_score\n",
    "    \n",
    "    if(method == 'two-tailed'):\n",
    "        \n",
    "        lower_cutoff = t.ppf(alpha/2, n - 1) \n",
    "        upper_cutoff = t.ppf(1-alpha/2, n - 1) \n",
    "        print(\"t-criticals: \",lower_cutoff,upper_cutoff)\n",
    "        \n",
    "        if(lower_cutoff<t_score<upper_cutoff):\n",
    "            rejectnull = \"Failed to Reject Null Hypothesis i.e, accept Null Hypothesis\"\n",
    "        else:\n",
    "            rejectnull = \"Reject the Null Hypothesis\"\n",
    "        \n",
    "#         reqplot2q3(s,x,mu0,xbar,lower_cutoff,upper_cutoff)\n",
    "            \n",
    "    elif(method == 'right-tailed'):\n",
    "        \n",
    "        upper_cutoff = t.ppf(1-alpha,n-1)\n",
    "        print(\"t-critical: \",upper_cutoff)\n",
    "        \n",
    "        if(t_score >= upper_cutoff):\n",
    "            rejectnull = \"Reject the Null Hypothesis\"\n",
    "        else:\n",
    "            rejectnull = \"Failed to Reject Null Hypothesis i.e, accept Null Hypothesis\"\n",
    "        \n",
    "#         reqplotuq3(s,x,mu0,xbar,upper_cutoff)\n",
    "        \n",
    "    elif(method == 'left-tailed'):\n",
    "        \n",
    "        lower_cutoff = t.ppf(alpha,n-1)\n",
    "        print(\"t-critical: \",lower_cutoff)\n",
    "        \n",
    "        if(t_score <= lower_cutoff):\n",
    "            rejectnull = \"Reject the Null Hypothesis\"\n",
    "        else:\n",
    "            rejectnull =  \"Failed to Reject Null Hypothesis i.e, accept Null Hypothesis\"\n",
    "         \n",
    "        reqplotlq3(s,x,mu0,xbar,lower_cutoff)\n",
    "        \n",
    "    # plotting the distribution:\n",
    "    return rejectnull"
   ]
  },
  {
   "cell_type": "code",
   "execution_count": 12,
   "metadata": {},
   "outputs": [
    {
     "name": "stdout",
     "output_type": "stream",
     "text": [
      "t score :  0.4317882018907915\n",
      "t-critical:  -1.7291328115213678\n"
     ]
    },
    {
     "data": {
      "text/plain": [
       "'Failed to Reject Null Hypothesis i.e, accept Null Hypothesis'"
      ]
     },
     "execution_count": 12,
     "metadata": {},
     "output_type": "execute_result"
    },
    {
     "data": {
      "image/png": "[encoded data removed]",
      "text/plain": [
       "<Figure size 432x288 with 1 Axes>"
      ]
     },
     "metadata": {
      "needs_background": "light"
     },
     "output_type": "display_data"
    }
   ],
   "source": [
    "l = [14.08,14.13,15.65,13.78,16.26,14.97,15.36,15.81,14.53,16.79,15.78,16.98,13.23,15.43,15.46,13.88,14.31,14.41,15.76,15.38]\n",
    "\n",
    "# The above sample gives 'Failed to Reject Null Hypothesis i.e, accept Null Hypothesis'\n",
    "\n",
    "# l = [10.08,10.13,11.65,9.78,12.26,10.97,11.36,11.81,10.53,12.79,11.78,12.98,9.23,11.43,11.46,9.88,10.31,10.41,11.76,11.38]\n",
    "\n",
    "# The above sample gives 'Reject the Null Hypothesis'\n",
    "\n",
    "samplettestq3(l,15,0.05,'left-tailed')"
   ]
  },
  {
   "cell_type": "markdown",
   "metadata": {},
   "source": [
    "###### This p-value approach works as verification proof for our critical t-value approach\n",
    "\n",
    "In null hypothesis significance testing, the p-value is the probability of obtaining test results at least as extreme as the results actually observed, under the assumption that the null hypothesis is correct. A very small p-value means that such an extreme observed outcome would be very unlikely under the null hypothesis\n",
    "\n",
    "$$\n",
    "If p≤α, reject H0; \\\\If p>α, reject H0\n",
    "$$\n",
    "    "
   ]
  },
  {
   "cell_type": "code",
   "execution_count": 13,
   "metadata": {},
   "outputs": [
    {
     "name": "stdout",
     "output_type": "stream",
     "text": [
      "The P-value is :  0.6707555050252283\n",
      "Failed to Reject Null Hypothesis i.e, accept Null Hypothesis\n"
     ]
    }
   ],
   "source": [
    "# p - value Approach     \n",
    "\n",
    "l = [14.08,14.13,15.65,13.78,16.26,14.97,15.36,15.81,14.53,16.79,15.78,16.98,13.23,15.43,15.46,13.88,14.31,14.41,15.76,15.38] \n",
    "\n",
    "# The above sample gives 'Failed to Reject Null Hypothesis i.e, accept Null Hypothesis'\n",
    "\n",
    "# l = [10.08,10.13,11.65,9.78,12.26,10.97,11.36,11.81,10.53,12.79,11.78,12.98,9.23,11.43,11.46,9.88,10.31,10.41,11.76,11.38]\n",
    "\n",
    "# The above sample gives 'Reject the Null Hypothesis'\n",
    "\n",
    "\n",
    "from scipy.stats import ttest_1samp\n",
    "\n",
    "tstats= ttest_1samp(l,15)      # sample passed is l with assumed population mean 4\n",
    "\n",
    "p_value  = tstats[1]\n",
    "\n",
    "print(\"The P-value is : \",p_value)\n",
    "\n",
    "if(p_value<0.025):                   # since one tail \n",
    "    print(\"Reject the Null Hypothesis\")\n",
    "else:\n",
    "    print(\"Failed to Reject Null Hypothesis i.e, accept Null Hypothesis\")"
   ]
  },
  {
   "cell_type": "markdown",
   "metadata": {},
   "source": [
    "---\n",
    "\n",
    "**Question 4:**\n",
    "\n",
    "You have developed a new Machine Learning Application and claim that on average it takes less than 100 ms to predict for any future datapoint. How do you convince your client about this claim? ~(Based on past data you know that the std is 10 ms)~"
   ]
  },
  {
   "cell_type": "markdown",
   "metadata": {},
   "source": [
    "H0 : (Null Hypothesis) \n",
    "\n",
    "the average time to predict a future datapoint by the ML application is greater than or equal to 100ms. (>=100)\n",
    "\n",
    "---\n",
    "\n",
    "H1 : (Alternate Hypothesis)\n",
    "\n",
    "the average time to predict a future datapoint by the ML application is less than 100ms. (<100)"
   ]
  },
  {
   "cell_type": "code",
   "execution_count": 14,
   "metadata": {},
   "outputs": [],
   "source": [
    "def reqplotlq4(s,sample,mu0,sample_mean,t_critical_right):\n",
    "    x_min = 70\n",
    "    x_max = 100\n",
    "    \n",
    "    # Defining the sampling distribution mean and sampling distribution std\n",
    "    mean = mu0\n",
    "    std = s/math.sqrt(len(sample))\n",
    "    \n",
    "    # Ploting the graph and setting the x limits\n",
    "    \n",
    "    x = np.linspace(x_min, x_max, 100)\n",
    "    y = norm.pdf(x, mean, std)\n",
    "    plt.xlim(x_min, x_max)\n",
    "    plt.plot(x, y)\n",
    "\n",
    "    # Shading the left rejection region\n",
    "    x1 = np.linspace(x_min,mean+t_critical_right*std, 100)\n",
    "    y1 = norm.pdf(x1, mean, std)\n",
    "    plt.fill_between(x1, y1, color='yellow')\n",
    "\n",
    "    # Ploting the sample mean and concluding the results \n",
    "    \n",
    "    plt.scatter(sample_mean, 0)\n",
    "    plt.annotate(\"x_bar\", (sample_mean, 0.0007))"
   ]
  },
  {
   "cell_type": "code",
   "execution_count": 15,
   "metadata": {},
   "outputs": [],
   "source": [
    "def samplettestq4(x, mu0, alpha, method='two-tailed'):\n",
    "    \n",
    "    n  = len(x)                       # sample length\n",
    "    xbar = sum(x)/n;                  # sample mean\n",
    "    s = stats.stdev(x)                # sample standard deviation\n",
    "    \n",
    "    # calculate test statistic (tscore)\n",
    "    \n",
    "    t_score = (xbar-mu0)/(s/math.sqrt(n))\n",
    "    print(\"t score : \",t_score)       \n",
    "    \n",
    "    # calculating critical values and compare with its analysis with t_score\n",
    "    \n",
    "    if(method == 'two-tailed'):\n",
    "        \n",
    "        lower_cutoff = t.ppf(alpha/2, n - 1) \n",
    "        upper_cutoff = t.ppf(1-alpha/2, n - 1) \n",
    "        print(\"t-criticals: \",lower_cutoff,upper_cutoff)\n",
    "        \n",
    "        if(lower_cutoff<t_score<upper_cutoff):\n",
    "            rejectnull = \"Failed to Reject Null Hypothesis i.e, accept Null Hypothesis\"\n",
    "        else:\n",
    "            rejectnull = \"Reject the Null Hypothesis\"\n",
    "        \n",
    "#         reqplot2q4(s,x,mu0,xbar,lower_cutoff,upper_cutoff)\n",
    "            \n",
    "    elif(method == 'right-tailed'):\n",
    "        \n",
    "        upper_cutoff = t.ppf(1-alpha,n-1)\n",
    "        print(\"t-critical: \",upper_cutoff)\n",
    "        \n",
    "        if(t_score >= upper_cutoff):\n",
    "            rejectnull = \"Reject the Null Hypothesis\"\n",
    "        else:\n",
    "            rejectnull = \"Failed to Reject Null Hypothesis i.e, accept Null Hypothesis\"\n",
    "        \n",
    "#         reqplotuq4(s,x,mu0,xbar,upper_cutoff)\n",
    "        \n",
    "    elif(method == 'left-tailed'):\n",
    "        \n",
    "        lower_cutoff = t.ppf(alpha,n-1)\n",
    "        print(\"t-critical: \",lower_cutoff)\n",
    "        \n",
    "        if(t_score <= lower_cutoff):\n",
    "            rejectnull = \"Reject the Null Hypothesis\"\n",
    "        else:\n",
    "            rejectnull =  \"Failed to Reject Null Hypothesis i.e, accept Null Hypothesis\"\n",
    "            \n",
    "        reqplotlq4(s,x,mu0,xbar,lower_cutoff)\n",
    "        \n",
    "    # plotting the distribution:\n",
    "    return rejectnull"
   ]
  },
  {
   "cell_type": "code",
   "execution_count": 16,
   "metadata": {},
   "outputs": [
    {
     "name": "stdout",
     "output_type": "stream",
     "text": [
      "t score :  -1.2555721135239395\n",
      "t-critical:  -1.6603911559963902\n"
     ]
    },
    {
     "data": {
      "text/plain": [
       "'Failed to Reject Null Hypothesis i.e, accept Null Hypothesis'"
      ]
     },
     "execution_count": 16,
     "metadata": {},
     "output_type": "execute_result"
    },
    {
     "data": {
      "image/png": "[encoded data removed]",
      "text/plain": [
       "<Figure size 432x288 with 1 Axes>"
      ]
     },
     "metadata": {
      "needs_background": "light"
     },
     "output_type": "display_data"
    }
   ],
   "source": [
    "# consider the sample of these values \n",
    "random.seed(0)\n",
    "l1 = []\n",
    "for j in range(100):\n",
    "    l1.append(random.randint(50,140 ))\n",
    "    \n",
    "sample_mean = sum(l1)/len(l1)                     # 96.29 ms (sample mean)  100 ms is the assumed population mean\n",
    "\n",
    "samplettestq4(l1,100,0.05,'left-tailed')         # 'Failed to Reject Null Hypothesis i.e, accept Null Hypothesis'"
   ]
  },
  {
   "cell_type": "code",
   "execution_count": 17,
   "metadata": {},
   "outputs": [
    {
     "name": "stdout",
     "output_type": "stream",
     "text": [
      "t score :  -9.686202983504966\n",
      "t-critical:  -1.6603911559963902\n"
     ]
    },
    {
     "data": {
      "text/plain": [
       "'Reject the Null Hypothesis'"
      ]
     },
     "execution_count": 17,
     "metadata": {},
     "output_type": "execute_result"
    },
    {
     "data": {
      "image/png": "[encoded data removed]",
      "text/plain": [
       "<Figure size 432x288 with 1 Axes>"
      ]
     },
     "metadata": {
      "needs_background": "light"
     },
     "output_type": "display_data"
    }
   ],
   "source": [
    "random.seed(0)\n",
    "l2 = []\n",
    "for j in range(100):\n",
    "    l2.append(random.randint(50,110 ))\n",
    "    \n",
    "sample_mean = sum(l2)/len(l2)                          # 82.5 ms (sample mean)  100 ms is the assumed population mean\n",
    "\n",
    "samplettestq4(l2,100,0.05,'left-tailed') "
   ]
  },
  {
   "cell_type": "markdown",
   "metadata": {},
   "source": [
    "###### This p-value approach works as verification proof for our critical t-value approach\n",
    "\n",
    "In null hypothesis significance testing, the p-value is the probability of obtaining test results at least as extreme as the results actually observed, under the assumption that the null hypothesis is correct. A very small p-value means that such an extreme observed outcome would be very unlikely under the null hypothesis\n",
    "\n",
    "$$\n",
    "If p≤α, reject H0; \\\\If p>α, reject H0\n",
    "$$\n",
    "    "
   ]
  },
  {
   "cell_type": "code",
   "execution_count": 18,
   "metadata": {},
   "outputs": [
    {
     "name": "stdout",
     "output_type": "stream",
     "text": [
      "The P-value is :  5.292448490510035e-16\n",
      "Reject the Null Hypothesis\n"
     ]
    }
   ],
   "source": [
    "# p - value Approach     \n",
    "\n",
    "\n",
    "from scipy.stats import ttest_1samp\n",
    "\n",
    "# tstats= ttest_1samp(l1,100)      # sample passed is l1  # Failed to Reject Null Hypothesis i.e, accept Null Hypothesis\n",
    "\n",
    "tstats= ttest_1samp(l2,100)      # sample passed is l2      # Reject the Null Hypothesis\n",
    "\n",
    "p_value  = tstats[1]\n",
    "\n",
    "print(\"The P-value is : \",p_value)\n",
    "\n",
    "if(p_value<0.025):                   # since one tail \n",
    "    print(\"Reject the Null Hypothesis\")\n",
    "else:\n",
    "    print(\"Failed to Reject Null Hypothesis i.e, accept Null Hypothesis\")"
   ]
  },
  {
   "cell_type": "markdown",
   "metadata": {},
   "source": [
    "***CONCLUSION:***\n",
    "\n",
    "1. The ‘One sample T Test’ is one of the 3 types of T Tests. It is used when you want to test if the mean of the population from which the sample is drawn is of a hypothesized value. \n",
    "\n",
    "2. It is very useful When the population variance of that feature is unknown.\n",
    "\n",
    "3. Every Question is cross verified by critical t-value approach and the p-value approach"
   ]
  }
 ],
 "metadata": {
  "kernelspec": {
   "display_name": "Python 3",
   "language": "python",
   "name": "python3"
  },
  "language_info": {
   "codemirror_mode": {
    "name": "ipython",
    "version": 3
   },
   "file_extension": ".py",
   "mimetype": "text/x-python",
   "name": "python",
   "nbconvert_exporter": "python",
   "pygments_lexer": "ipython3",
   "version": "3.8.5"
  }
 },
 "nbformat": 4,
 "nbformat_minor": 4
}
